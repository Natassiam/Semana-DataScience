{
  "nbformat": 4,
  "nbformat_minor": 0,
  "metadata": {
    "colab": {
      "name": "calculo.ipynb",
      "provenance": [],
      "authorship_tag": "ABX9TyN5rTUL4WD8Db4trJDNlDBK",
      "include_colab_link": true
    },
    "kernelspec": {
      "name": "python3",
      "display_name": "Python 3"
    }
  },
  "cells": [
    {
      "cell_type": "markdown",
      "metadata": {
        "id": "view-in-github",
        "colab_type": "text"
      },
      "source": [
        "<a href=\"https://colab.research.google.com/github/Natassiam/Semana-DataScience/blob/master/calculo.ipynb\" target=\"_parent\"><img src=\"https://colab.research.google.com/assets/colab-badge.svg\" alt=\"Open In Colab\"/></a>"
      ]
    },
    {
      "cell_type": "code",
      "metadata": {
        "id": "jckbyX4i2e3U",
        "colab_type": "code",
        "colab": {
          "base_uri": "https://localhost:8080/",
          "height": 136
        },
        "outputId": "60a4fe15-213c-4dbd-c84a-d7b15954083c"
      },
      "source": [
        "!pip install handcalcs\n",
        "\n",
        "\n",
        "\n"
      ],
      "execution_count": 10,
      "outputs": [
        {
          "output_type": "stream",
          "text": [
            "Collecting handcalcs\n",
            "  Downloading https://files.pythonhosted.org/packages/bc/92/15b04383f62df9fab6061517c3b7761e046b3c38046f6b45fcb8c00eaa60/handcalcs-0.2.0-py3-none-any.whl\n",
            "Requirement already satisfied: pyparsing in /usr/local/lib/python3.6/dist-packages (from handcalcs) (2.4.7)\n",
            "Requirement already satisfied: jinja2 in /usr/local/lib/python3.6/dist-packages (from handcalcs) (2.11.2)\n",
            "Requirement already satisfied: MarkupSafe>=0.23 in /usr/local/lib/python3.6/dist-packages (from jinja2->handcalcs) (1.1.1)\n",
            "Installing collected packages: handcalcs\n",
            "Successfully installed handcalcs-0.2.0\n"
          ],
          "name": "stdout"
        }
      ]
    },
    {
      "cell_type": "code",
      "metadata": {
        "id": "_1sHNAf15t22",
        "colab_type": "code",
        "colab": {}
      },
      "source": [
        "from math import sqrt\n",
        "import handcalcs.render\n"
      ],
      "execution_count": 21,
      "outputs": []
    },
    {
      "cell_type": "code",
      "metadata": {
        "id": "Yoxdak0v5oZR",
        "colab_type": "code",
        "colab": {
          "base_uri": "https://localhost:8080/",
          "height": 136
        },
        "outputId": "b60068df-2463-4ee2-a7aa-f7b32dd18546"
      },
      "source": [
        "%%render\n",
        "a=2\n",
        "b=2*4\n",
        "c=2\n"
      ],
      "execution_count": 18,
      "outputs": [
        {
          "output_type": "display_data",
          "data": {
            "text/latex": "\\[\n\\begin{aligned}\na &= 2 \\;\\textit{    }\\\\[10pt]\nb &= 2 \\cdot 4 = 2 \\cdot 4 &= 8 \\;\\textit{    }\n\\\\[10pt]\nc &= 2 \\;\\textit{    }\\end{aligned}\n\\]",
            "text/plain": [
              "<IPython.core.display.Latex object>"
            ]
          },
          "metadata": {
            "tags": []
          }
        }
      ]
    },
    {
      "cell_type": "code",
      "metadata": {
        "id": "naSItQdT6P-J",
        "colab_type": "code",
        "colab": {
          "base_uri": "https://localhost:8080/",
          "height": 38
        },
        "outputId": "3867280f-de0e-4859-9979-ed06ff450679"
      },
      "source": [
        "%%latex\n",
        "a=2\n",
        "b=2*4\n",
        "c=2\n"
      ],
      "execution_count": 22,
      "outputs": [
        {
          "output_type": "display_data",
          "data": {
            "text/latex": "a=2\nb=2*4\nc=2",
            "text/plain": [
              "<IPython.core.display.Latex object>"
            ]
          },
          "metadata": {
            "tags": []
          }
        }
      ]
    },
    {
      "cell_type": "code",
      "metadata": {
        "id": "eyZhhp7E63d5",
        "colab_type": "code",
        "colab": {
          "base_uri": "https://localhost:8080/",
          "height": 38
        },
        "outputId": "9fc024ab-d5d1-4340-a344-fdde2a7c3ed3"
      },
      "source": [
        "%%latex\n",
        "result = a+b+c\n",
        "print(result)"
      ],
      "execution_count": 24,
      "outputs": [
        {
          "output_type": "display_data",
          "data": {
            "text/latex": "result = a+b+c\nprint(result)",
            "text/plain": [
              "<IPython.core.display.Latex object>"
            ]
          },
          "metadata": {
            "tags": []
          }
        }
      ]
    },
    {
      "cell_type": "code",
      "metadata": {
        "id": "vRMZQ_ms7Hvt",
        "colab_type": "code",
        "colab": {
          "base_uri": "https://localhost:8080/",
          "height": 34
        },
        "outputId": "d957f623-6de8-440e-f420-318693ff011f"
      },
      "source": [
        "print(result)"
      ],
      "execution_count": 25,
      "outputs": [
        {
          "output_type": "stream",
          "text": [
            "12\n"
          ],
          "name": "stdout"
        }
      ]
    },
    {
      "cell_type": "code",
      "metadata": {
        "id": "z1JEXt1C7Ltg",
        "colab_type": "code",
        "colab": {
          "base_uri": "https://localhost:8080/",
          "height": 38
        },
        "outputId": "9adca621-b4fb-4cc7-c21f-a2959b8e05ff"
      },
      "source": [
        "%%latex\n",
        "x^2-4ac"
      ],
      "execution_count": 27,
      "outputs": [
        {
          "output_type": "display_data",
          "data": {
            "text/latex": "x^2-4ac",
            "text/plain": [
              "<IPython.core.display.Latex object>"
            ]
          },
          "metadata": {
            "tags": []
          }
        }
      ]
    }
  ]
}